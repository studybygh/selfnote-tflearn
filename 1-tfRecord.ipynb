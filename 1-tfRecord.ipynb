{
 "cells": [
  {
   "cell_type": "code",
   "execution_count": 1,
   "id": "c4862a64",
   "metadata": {},
   "outputs": [],
   "source": [
    "import numpy as np\n",
    "import pandas as pd\n",
    "import tensorflow as tf"
   ]
  },
  {
   "cell_type": "code",
   "execution_count": 10,
   "id": "5d978ae6",
   "metadata": {},
   "outputs": [],
   "source": [
    "options = tf.io.TFRecordOptions(compression_type=\"GZIP\")\n",
    "with tf.io.TFRecordWriter(\"tfRecordFile/my_data.tfrecord\", options) as f:\n",
    "    f.write(b\"this is the first record\")\n",
    "    f.write(b\"this is the second record\")"
   ]
  },
  {
   "cell_type": "code",
   "execution_count": 11,
   "id": "37d090c2",
   "metadata": {},
   "outputs": [
    {
     "name": "stdout",
     "output_type": "stream",
     "text": [
      "tf.Tensor(b'this is the first record', shape=(), dtype=string)\n",
      "tf.Tensor(b'this is the second record', shape=(), dtype=string)\n"
     ]
    }
   ],
   "source": [
    "filepaths = [\"tfRecordFile/my_data.tfrecord\"]\n",
    "dataset = tf.data.TFRecordDataset(filepaths, compression_type=\"GZIP\")\n",
    "for item in dataset:\n",
    "    print(item)"
   ]
  },
  {
   "cell_type": "code",
   "execution_count": 16,
   "id": "d4109b10",
   "metadata": {},
   "outputs": [
    {
     "name": "stdout",
     "output_type": "stream",
     "text": [
      "Overwriting tfRecordFile/person.proto\n"
     ]
    }
   ],
   "source": [
    "%%writefile tfRecordFile/person.proto\n",
    "syntax = \"proto3\";\n",
    "message Person {\n",
    "  string name = 1;\n",
    "  int32 id = 2;\n",
    "  repeated string email = 3;\n",
    "}"
   ]
  },
  {
   "cell_type": "code",
   "execution_count": 19,
   "id": "93385f94",
   "metadata": {},
   "outputs": [],
   "source": [
    "from tfRecordFile.person_pb2 import Person"
   ]
  },
  {
   "cell_type": "code",
   "execution_count": 21,
   "id": "fdcc5e0e",
   "metadata": {},
   "outputs": [
    {
     "name": "stdout",
     "output_type": "stream",
     "text": [
      "name: \"Al\"\n",
      "id: 123\n",
      "email: \"a@b.com\"\n",
      "\n",
      "Al\n",
      "a@b.com\n",
      "b'\\n\\x02Al\\x10{\\x1a\\x07a@b.com\\x1a\\x07c@d.com'\n",
      "24\n",
      "True\n"
     ]
    }
   ],
   "source": [
    "person = Person(name=\"Al\", id=123, email=[\"a@b.com\"])  # create a Person\n",
    "print(person)  # display the Person\n",
    "print(person.name)\n",
    "print(person.email[0])\n",
    "person.email.append(\"c@d.com\")\n",
    "s = person.SerializeToString()\n",
    "print(s)\n",
    "person2 = Person()\n",
    "print(person2.ParseFromString(s))\n",
    "print(person == person2)"
   ]
  },
  {
   "cell_type": "code",
   "execution_count": 22,
   "id": "f31f9a9e",
   "metadata": {},
   "outputs": [
    {
     "name": "stdout",
     "output_type": "stream",
     "text": [
      "[<tf.Tensor: shape=(1,), dtype=string, numpy=array([b'Al'], dtype=object)>, <tf.Tensor: shape=(1,), dtype=int32, numpy=array([123])>, <tf.Tensor: shape=(2,), dtype=string, numpy=array([b'a@b.com', b'c@d.com'], dtype=object)>]\n"
     ]
    }
   ],
   "source": [
    "person_tf = tf.io.decode_proto(\n",
    "    bytes=s,\n",
    "    message_type=\"Person\",\n",
    "    field_names=[\"name\", \"id\", \"email\"],\n",
    "    output_types=[tf.string, tf.int32, tf.string],\n",
    "    descriptor_source=\"tfRecordFile/person.desc\")\n",
    "print(person_tf.values)"
   ]
  },
  {
   "cell_type": "code",
   "execution_count": 26,
   "id": "e36855da",
   "metadata": {},
   "outputs": [],
   "source": [
    "from tensorflow.train import BytesList, FloatList, Int64List\n",
    "from tensorflow.train import Feature, Features, Example"
   ]
  },
  {
   "cell_type": "code",
   "execution_count": 28,
   "id": "fcb07e90",
   "metadata": {
    "scrolled": true
   },
   "outputs": [
    {
     "name": "stdout",
     "output_type": "stream",
     "text": [
      "Writing tfRecordFile/tfProto.proto\n"
     ]
    }
   ],
   "source": [
    "%%writefile tfRecordFile/tfProto.proto\n",
    "syntax = \"proto3\";\n",
    "message BytesList { repeated bytes value = 1; }\n",
    "message FloatList { repeated float value = 1 [packed = true]; }\n",
    "message Int64List { repeated int64 value = 1 [packed = true]; }\n",
    "message Feature {\n",
    "    oneof kind {\n",
    "        BytesList bytes_list = 1;\n",
    "        FloatList float_list = 2;\n",
    "        Int64List int64_list = 3;\n",
    "    }\n",
    "};\n",
    "message Features { map<string, Feature> feature = 1; };\n",
    "message Example { Features features = 1; };"
   ]
  },
  {
   "cell_type": "code",
   "execution_count": 50,
   "id": "0b53d993",
   "metadata": {},
   "outputs": [
    {
     "name": "stdout",
     "output_type": "stream",
     "text": [
      "type of b'123' is <class 'bytes'>\n",
      "type of '123' is <class 'str'>\n"
     ]
    }
   ],
   "source": [
    "print('type of b\\'123\\' is ' + str(type(b'123')))\n",
    "print('type of \\'123\\' is ' + str(type('123')))"
   ]
  },
  {
   "cell_type": "code",
   "execution_count": 54,
   "id": "8ce67534",
   "metadata": {},
   "outputs": [
    {
     "name": "stdout",
     "output_type": "stream",
     "text": [
      "<TFRecordDatasetV2 shapes: (), types: tf.string>\n",
      "{'emails': <tensorflow.python.framework.sparse_tensor.SparseTensor object at 0x0000023FAC9419A0>, 'id': <tf.Tensor: shape=(), dtype=int64, numpy=123>, 'name': <tf.Tensor: shape=(), dtype=string, numpy=b'Alice'>}\n",
      "tf.Tensor([b'a@b.com' b'c@d.com'], shape=(2,), dtype=string)\n",
      "tf.Tensor([b'a@b.com' b'c@d.com'], shape=(2,), dtype=string)\n",
      "{'emails': <tensorflow.python.framework.sparse_tensor.SparseTensor object at 0x0000023FAC962910>, 'id': <tf.Tensor: shape=(), dtype=int64, numpy=123>, 'name': <tf.Tensor: shape=(), dtype=string, numpy=b'Alice'>}\n",
      "tf.Tensor([b'a@b.com' b'c@d.com'], shape=(2,), dtype=string)\n",
      "tf.Tensor([b'a@b.com' b'c@d.com'], shape=(2,), dtype=string)\n",
      "\n",
      "\n",
      "{'emails': <tensorflow.python.framework.sparse_tensor.SparseTensor object at 0x0000023FAC962D00>, 'id': <tf.Tensor: shape=(2,), dtype=int64, numpy=array([123, 123], dtype=int64)>, 'name': <tf.Tensor: shape=(2,), dtype=string, numpy=array([b'Alice', b'Alice'], dtype=object)>}\n",
      "tf.Tensor([b'a@b.com' b'c@d.com'], shape=(2,), dtype=string)\n",
      "tf.Tensor([b'a@b.com' b'c@d.com'], shape=(2,), dtype=string)\n"
     ]
    }
   ],
   "source": [
    "name_feature = Feature(bytes_list = BytesList(value = [b\"Alice\"]))\n",
    "id_feature = Feature(int64_list = Int64List(value = [123]))\n",
    "emails_feature = Feature(bytes_list = BytesList(value = [b'a@b.com', b'c@d.com']))\n",
    "feature_dict = {\"name\":name_feature, 'id':id_feature, 'emails':emails_feature}\n",
    "person_features = Features(feature = feature_dict)\n",
    "person_example = Example(features = person_features)\n",
    "\n",
    "person_example_ = Example(\n",
    "    features=Features(\n",
    "    feature={\n",
    "    \"name\": Feature(bytes_list=BytesList(value=[b\"Alice\"])),\n",
    "    \"id\": Feature(int64_list=Int64List(value=[123])),\n",
    "    \"emails\": Feature(bytes_list=BytesList(value=[b\"a@b.com\",\n",
    "    b\"c@d.com\"]))\n",
    "    }))\n",
    "person_example == person_example_\n",
    "\n",
    "with tf.io.TFRecordWriter(\"tfRecordFile/my_contacts.tfrecord\") as f:\n",
    "    f.write(person_example.SerializeToString())\n",
    "    f.write(person_example.SerializeToString())\n",
    "\n",
    "    \n",
    "# The fixed-length features are parsed as regular tensors, but the variablelength\n",
    "# features are parsed as sparse tensors. You can convert a sparse\n",
    "# tensor to a dense tensor using tf.sparse.to_dense(),\n",
    "feature_description = {\n",
    "    \"name\": tf.io.FixedLenFeature([], tf.string, default_value=\"\"),\n",
    "    \"id\": tf.io.FixedLenFeature([], tf.int64, default_value=0),\n",
    "    \"emails\": tf.io.VarLenFeature(tf.string),\n",
    "}\n",
    "\n",
    "feature_record = tf.data.TFRecordDataset([\"tfRecordFile/my_contacts.tfrecord\"])\n",
    "print(feature_record)\n",
    "for serialized_example in feature_record:\n",
    "    parsed_example = tf.io.parse_single_example(serialized_example, feature_description)\n",
    "    print(parsed_example)\n",
    "    print(tf.sparse.to_dense(parsed_example[\"emails\"], default_value=b\"\"))\n",
    "    print(parsed_example[\"emails\"].values)\n",
    "print('\\n')\n",
    "\n",
    "feature_record_batch = tf.data.TFRecordDataset([\"tfRecordFile/my_contacts.tfrecord\"]).batch(10)\n",
    "for serialized_examples in feature_record_batch:\n",
    "    parsed_examples = tf.io.parse_example(serialized_examples,feature_description)\n",
    "    print(parsed_examples)\n",
    "    print(tf.sparse.to_dense(parsed_example[\"emails\"], default_value=b\"\"))\n",
    "    print(parsed_example[\"emails\"].values)"
   ]
  },
  {
   "cell_type": "code",
   "execution_count": 52,
   "id": "8889f830",
   "metadata": {},
   "outputs": [
    {
     "name": "stdout",
     "output_type": "stream",
     "text": [
      "Overwriting tfRecordFile/tfProtoSeq.proto\n"
     ]
    }
   ],
   "source": [
    "%%writefile tfRecordFile/tfProtoSeq.proto\n",
    "message FeatureList { repeated Feature feature = 1; };\n",
    "message FeatureLists { map<string, FeatureList> feature_list = 1; };\n",
    "message SequenceExample {\n",
    "    Features context = 1;\n",
    "    FeatureLists feature_lists = 2;\n",
    "};"
   ]
  },
  {
   "cell_type": "code",
   "execution_count": 60,
   "id": "4bc41700",
   "metadata": {},
   "outputs": [
    {
     "name": "stdout",
     "output_type": "stream",
     "text": [
      "context {\n",
      "  feature {\n",
      "    key: \"author_id\"\n",
      "    value {\n",
      "      int64_list {\n",
      "        value: 123\n",
      "      }\n",
      "    }\n",
      "  }\n",
      "  feature {\n",
      "    key: \"pub_date\"\n",
      "    value {\n",
      "      int64_list {\n",
      "        value: 1623\n",
      "        value: 12\n",
      "        value: 25\n",
      "      }\n",
      "    }\n",
      "  }\n",
      "  feature {\n",
      "    key: \"title\"\n",
      "    value {\n",
      "      bytes_list {\n",
      "        value: \"A\"\n",
      "        value: \"desert\"\n",
      "        value: \"place\"\n",
      "        value: \".\"\n",
      "      }\n",
      "    }\n",
      "  }\n",
      "}\n",
      "feature_lists {\n",
      "  feature_list {\n",
      "    key: \"comments\"\n",
      "    value {\n",
      "      feature {\n",
      "        bytes_list {\n",
      "          value: \"When\"\n",
      "          value: \"the\"\n",
      "          value: \"hurlyburly\"\n",
      "          value: \"\\'s\"\n",
      "          value: \"done\"\n",
      "          value: \".\"\n",
      "        }\n",
      "      }\n",
      "      feature {\n",
      "        bytes_list {\n",
      "          value: \"When\"\n",
      "          value: \"the\"\n",
      "          value: \"battle\"\n",
      "          value: \"\\'s\"\n",
      "          value: \"lost\"\n",
      "          value: \"and\"\n",
      "          value: \"won\"\n",
      "          value: \".\"\n",
      "        }\n",
      "      }\n",
      "    }\n",
      "  }\n",
      "  feature_list {\n",
      "    key: \"content\"\n",
      "    value {\n",
      "      feature {\n",
      "        bytes_list {\n",
      "          value: \"When\"\n",
      "          value: \"shall\"\n",
      "          value: \"we\"\n",
      "          value: \"three\"\n",
      "          value: \"meet\"\n",
      "          value: \"again\"\n",
      "          value: \"?\"\n",
      "        }\n",
      "      }\n",
      "      feature {\n",
      "        bytes_list {\n",
      "          value: \"In\"\n",
      "          value: \"thunder\"\n",
      "          value: \",\"\n",
      "          value: \"lightning\"\n",
      "          value: \",\"\n",
      "          value: \"or\"\n",
      "          value: \"in\"\n",
      "          value: \"rain\"\n",
      "          value: \"?\"\n",
      "        }\n",
      "      }\n",
      "    }\n",
      "  }\n",
      "}\n",
      "\n",
      "<TFRecordDatasetV2 shapes: (), types: tf.string>\n",
      "{'title': <tensorflow.python.framework.sparse_tensor.SparseTensor object at 0x0000023FAC948BB0>, 'author_id': <tf.Tensor: shape=(), dtype=int64, numpy=123>, 'pub_date': <tf.Tensor: shape=(3,), dtype=int64, numpy=array([1623,   12,   25], dtype=int64)>}\n",
      "{'comments': <tensorflow.python.framework.sparse_tensor.SparseTensor object at 0x0000023FAC948610>, 'content': <tensorflow.python.framework.sparse_tensor.SparseTensor object at 0x0000023FADEBBFD0>}\n",
      "<tf.RaggedTensor [[b'When', b'shall', b'we', b'three', b'meet', b'again', b'?'], [b'In', b'thunder', b',', b'lightning', b',', b'or', b'in', b'rain', b'?']]>\n",
      "{'title': <tensorflow.python.framework.sparse_tensor.SparseTensor object at 0x0000023FAC975820>, 'author_id': <tf.Tensor: shape=(), dtype=int64, numpy=123>, 'pub_date': <tf.Tensor: shape=(3,), dtype=int64, numpy=array([1623,   12,   25], dtype=int64)>}\n",
      "{'comments': <tensorflow.python.framework.sparse_tensor.SparseTensor object at 0x0000023FAC98E970>, 'content': <tensorflow.python.framework.sparse_tensor.SparseTensor object at 0x0000023FAC948550>}\n",
      "<tf.RaggedTensor [[b'When', b'shall', b'we', b'three', b'meet', b'again', b'?'], [b'In', b'thunder', b',', b'lightning', b',', b'or', b'in', b'rain', b'?']]>\n",
      "\n",
      "\n",
      "<BatchDataset shapes: (None,), types: tf.string>\n",
      "tf.Tensor(\n",
      "[b\"\\nL\\n\\x12\\n\\tauthor_id\\x12\\x05\\x1a\\x03\\n\\x01{\\n \\n\\x05title\\x12\\x17\\n\\x15\\n\\x01A\\n\\x06desert\\n\\x05place\\n\\x01.\\n\\x14\\n\\x08pub_date\\x12\\x08\\x1a\\x06\\n\\x04\\xd7\\x0c\\x0c\\x19\\x12\\xd0\\x01\\nj\\n\\x07content\\x12_\\n*\\n(\\n\\x04When\\n\\x05shall\\n\\x02we\\n\\x05three\\n\\x04meet\\n\\x05again\\n\\x01?\\n1\\n/\\n\\x02In\\n\\x07thunder\\n\\x01,\\n\\tlightning\\n\\x01,\\n\\x02or\\n\\x02in\\n\\x04rain\\n\\x01?\\nb\\n\\x08comments\\x12V\\n&\\n$\\n\\x04When\\n\\x03the\\n\\nhurlyburly\\n\\x02's\\n\\x04done\\n\\x01.\\n,\\n*\\n\\x04When\\n\\x03the\\n\\x06battle\\n\\x02's\\n\\x04lost\\n\\x03and\\n\\x03won\\n\\x01.\"\n",
      " b\"\\nL\\n\\x12\\n\\tauthor_id\\x12\\x05\\x1a\\x03\\n\\x01{\\n \\n\\x05title\\x12\\x17\\n\\x15\\n\\x01A\\n\\x06desert\\n\\x05place\\n\\x01.\\n\\x14\\n\\x08pub_date\\x12\\x08\\x1a\\x06\\n\\x04\\xd7\\x0c\\x0c\\x19\\x12\\xd0\\x01\\nj\\n\\x07content\\x12_\\n*\\n(\\n\\x04When\\n\\x05shall\\n\\x02we\\n\\x05three\\n\\x04meet\\n\\x05again\\n\\x01?\\n1\\n/\\n\\x02In\\n\\x07thunder\\n\\x01,\\n\\tlightning\\n\\x01,\\n\\x02or\\n\\x02in\\n\\x04rain\\n\\x01?\\nb\\n\\x08comments\\x12V\\n&\\n$\\n\\x04When\\n\\x03the\\n\\nhurlyburly\\n\\x02's\\n\\x04done\\n\\x01.\\n,\\n*\\n\\x04When\\n\\x03the\\n\\x06battle\\n\\x02's\\n\\x04lost\\n\\x03and\\n\\x03won\\n\\x01.\"], shape=(2,), dtype=string)\n",
      "({'title': <tensorflow.python.framework.sparse_tensor.SparseTensor object at 0x0000023FADE4E4C0>, 'author_id': <tf.Tensor: shape=(2,), dtype=int64, numpy=array([123, 123], dtype=int64)>, 'pub_date': <tf.Tensor: shape=(2, 3), dtype=int64, numpy=\n",
      "array([[1623,   12,   25],\n",
      "       [1623,   12,   25]], dtype=int64)>}, {'comments': <tensorflow.python.framework.sparse_tensor.SparseTensor object at 0x0000023FAC948FD0>, 'content': <tensorflow.python.framework.sparse_tensor.SparseTensor object at 0x0000023FADEBB700>}, {})\n",
      "<class 'tuple'>\n"
     ]
    }
   ],
   "source": [
    "from tensorflow.train import FeatureList, FeatureLists, SequenceExample\n",
    "context = Features(feature={\n",
    "    \"author_id\": Feature(int64_list=Int64List(value=[123])),\n",
    "    \"title\": Feature(bytes_list=BytesList(value=[b\"A\", b\"desert\", b\"place\", b\".\"])),\n",
    "    \"pub_date\": Feature(int64_list=Int64List(value=[1623, 12, 25]))\n",
    "})\n",
    "\n",
    "content = [[\"When\", \"shall\", \"we\", \"three\", \"meet\", \"again\", \"?\"],\n",
    "           [\"In\", \"thunder\", \",\", \"lightning\", \",\", \"or\", \"in\", \"rain\", \"?\"]]\n",
    "comments = [[\"When\", \"the\", \"hurlyburly\", \"'s\", \"done\", \".\"],\n",
    "            [\"When\", \"the\", \"battle\", \"'s\", \"lost\", \"and\", \"won\", \".\"]]\n",
    "\n",
    "def words_to_feature(words):\n",
    "    return Feature(bytes_list=BytesList(value=[word.encode(\"utf-8\") for word in words]))\n",
    "\n",
    "content_features = [words_to_feature(sentence) for sentence in content]\n",
    "comments_features = [words_to_feature(comment) for comment in comments]\n",
    "            \n",
    "sequence_example = SequenceExample(\n",
    "    context=context,\n",
    "    feature_lists=FeatureLists(feature_list={\n",
    "        \"content\": FeatureList(feature=content_features),\n",
    "        \"comments\": FeatureList(feature=comments_features)\n",
    "    }))\n",
    "print(sequence_example)\n",
    "\n",
    "with tf.io.TFRecordWriter(\"tfRecordFile/my_seq.tfrecord\") as f:\n",
    "    f.write(sequence_example.SerializeToString())\n",
    "    f.write(sequence_example.SerializeToString())\n",
    "\n",
    "\n",
    "    \n",
    "serialized_sequence_examples = tf.data.TFRecordDataset([\"tfRecordFile/my_seq.tfrecord\"])\n",
    "print(serialized_sequence_examples)\n",
    "context_feature_descriptions = {\n",
    "    \"author_id\": tf.io.FixedLenFeature([], tf.int64, default_value=0),\n",
    "    \"title\": tf.io.VarLenFeature(tf.string),\n",
    "    \"pub_date\": tf.io.FixedLenFeature([3], tf.int64, default_value=[0, 0, 0]),\n",
    "}\n",
    "sequence_feature_descriptions = {\n",
    "    \"content\": tf.io.VarLenFeature(tf.string),\n",
    "    \"comments\": tf.io.VarLenFeature(tf.string),\n",
    "}\n",
    "\n",
    "# If the feature lists contain sequences of varying sizes (as in the preceding example), you may\n",
    "# want to convert them to ragged tensors, using tf.RaggedTensor.from_sparse()\n",
    "for serialized_sequence_example in serialized_sequence_examples:\n",
    "    parsed_context, parsed_feature_lists = tf.io.parse_single_sequence_example( serialized_sequence_example, \n",
    "            context_feature_descriptions, sequence_feature_descriptions)\n",
    "    print(parsed_context)\n",
    "    print(parsed_feature_lists)\n",
    "    print(tf.RaggedTensor.from_sparse(parsed_feature_lists[\"content\"]))\n",
    "print('\\n')\n",
    "\n",
    "\n",
    "serialized_sequence_examples_batch = tf.data.TFRecordDataset([\"tfRecordFile/my_seq.tfrecord\"]).batch(10)\n",
    "print(serialized_sequence_examples_batch)\n",
    "for serialized_sequence_example_batch in serialized_sequence_examples_batch:\n",
    "    print(serialized_sequence_example_batch)\n",
    "    parsed_sequence_example_batch = tf.io.parse_sequence_example(serialized_sequence_example_batch, \n",
    "            context_feature_descriptions, sequence_feature_descriptions)\n",
    "    print(parsed_sequence_example_batch)\n",
    "    print(type(parsed_sequence_example_batch))\n",
    "#     print(parsed_context)\n",
    "#     print(parsed_feature_lists)\n",
    "#     print(tf.RaggedTensor.from_sparse(parsed_feature_lists[\"content\"]))\n",
    "    "
   ]
  },
  {
   "cell_type": "code",
   "execution_count": null,
   "id": "f070112b",
   "metadata": {},
   "outputs": [],
   "source": []
  },
  {
   "cell_type": "code",
   "execution_count": null,
   "id": "45d6f351",
   "metadata": {},
   "outputs": [],
   "source": []
  },
  {
   "cell_type": "code",
   "execution_count": null,
   "id": "00cd02ff",
   "metadata": {},
   "outputs": [],
   "source": []
  }
 ],
 "metadata": {
  "kernelspec": {
   "display_name": "Python 3",
   "language": "python",
   "name": "python3"
  },
  "language_info": {
   "codemirror_mode": {
    "name": "ipython",
    "version": 3
   },
   "file_extension": ".py",
   "mimetype": "text/x-python",
   "name": "python",
   "nbconvert_exporter": "python",
   "pygments_lexer": "ipython3",
   "version": "3.8.8"
  }
 },
 "nbformat": 4,
 "nbformat_minor": 5
}
